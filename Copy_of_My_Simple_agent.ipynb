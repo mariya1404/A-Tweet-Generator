{
  "nbformat": 4,
  "nbformat_minor": 0,
  "metadata": {
    "colab": {
      "provenance": [],
      "include_colab_link": true
    },
    "kernelspec": {
      "name": "python3",
      "display_name": "Python 3"
    },
    "language_info": {
      "name": "python"
    },
    "widgets": {
      "application/vnd.jupyter.widget-state+json": {
        "ac62f6872945427d84d723091c282fb5": {
          "model_module": "@jupyter-widgets/controls",
          "model_name": "VBoxModel",
          "model_module_version": "1.5.0",
          "state": {
            "_dom_classes": [],
            "_model_module": "@jupyter-widgets/controls",
            "_model_module_version": "1.5.0",
            "_model_name": "VBoxModel",
            "_view_count": null,
            "_view_module": "@jupyter-widgets/controls",
            "_view_module_version": "1.5.0",
            "_view_name": "VBoxView",
            "box_style": "",
            "children": [
              "IPY_MODEL_36bbf540c4e94a8e815c5f8b303b39b4",
              "IPY_MODEL_a36c7b679fae46c2b8349da04877b928",
              "IPY_MODEL_304513c1ceab4c24af788c98b2cb5be3",
              "IPY_MODEL_2f21741619144228890f9feda1ccf541",
              "IPY_MODEL_c23f71af9729421b83c136486c72903a",
              "IPY_MODEL_d07064e649c64cac8bc2389a77814421",
              "IPY_MODEL_abcea17c333d47d58fcd928469f46962"
            ],
            "layout": "IPY_MODEL_7e6eeeb8f4614b9a8f367e3ec01e86f6"
          }
        },
        "36bbf540c4e94a8e815c5f8b303b39b4": {
          "model_module": "@jupyter-widgets/controls",
          "model_name": "HTMLModel",
          "model_module_version": "1.5.0",
          "state": {
            "_dom_classes": [],
            "_model_module": "@jupyter-widgets/controls",
            "_model_module_version": "1.5.0",
            "_model_name": "HTMLModel",
            "_view_count": null,
            "_view_module": "@jupyter-widgets/controls",
            "_view_module_version": "1.5.0",
            "_view_name": "HTMLView",
            "description": "",
            "description_tooltip": null,
            "layout": "IPY_MODEL_6a0724e9f05d491aac0a6eefd1c8c506",
            "placeholder": "​",
            "style": "IPY_MODEL_f44c438137da40c19a56fc82b711f791",
            "value": " Tweet Generator Agent"
          }
        },
        "a36c7b679fae46c2b8349da04877b928": {
          "model_module": "@jupyter-widgets/controls",
          "model_name": "TextModel",
          "model_module_version": "1.5.0",
          "state": {
            "_dom_classes": [],
            "_model_module": "@jupyter-widgets/controls",
            "_model_module_version": "1.5.0",
            "_model_name": "TextModel",
            "_view_count": null,
            "_view_module": "@jupyter-widgets/controls",
            "_view_module_version": "1.5.0",
            "_view_name": "TextView",
            "continuous_update": true,
            "description": "Topic",
            "description_tooltip": null,
            "disabled": false,
            "layout": "IPY_MODEL_c017cc869e7247299d93a9df281ef60d",
            "placeholder": "​",
            "style": "IPY_MODEL_806fa63b425145a0b1d1ad04bcb42283",
            "value": "rainy day"
          }
        },
        "304513c1ceab4c24af788c98b2cb5be3": {
          "model_module": "@jupyter-widgets/controls",
          "model_name": "DropdownModel",
          "model_module_version": "1.5.0",
          "state": {
            "_dom_classes": [],
            "_model_module": "@jupyter-widgets/controls",
            "_model_module_version": "1.5.0",
            "_model_name": "DropdownModel",
            "_options_labels": [
              "Professional",
              "Casual",
              "Motivational",
              "Informative"
            ],
            "_view_count": null,
            "_view_module": "@jupyter-widgets/controls",
            "_view_module_version": "1.5.0",
            "_view_name": "DropdownView",
            "description": "Tone",
            "description_tooltip": null,
            "disabled": false,
            "index": 1,
            "layout": "IPY_MODEL_ce913d45fa90437bac31958523cdb330",
            "style": "IPY_MODEL_41fe8f1c213147079db0bc156c5e1647"
          }
        },
        "2f21741619144228890f9feda1ccf541": {
          "model_module": "@jupyter-widgets/controls",
          "model_name": "TextModel",
          "model_module_version": "1.5.0",
          "state": {
            "_dom_classes": [],
            "_model_module": "@jupyter-widgets/controls",
            "_model_module_version": "1.5.0",
            "_model_name": "TextModel",
            "_view_count": null,
            "_view_module": "@jupyter-widgets/controls",
            "_view_module_version": "1.5.0",
            "_view_name": "TextView",
            "continuous_update": true,
            "description": "Audience",
            "description_tooltip": null,
            "disabled": false,
            "layout": "IPY_MODEL_e60fdb9562e5459989feb85aca706079",
            "placeholder": "​",
            "style": "IPY_MODEL_5996c65fad2c47728c91ffd4d39fcc61",
            "value": "students"
          }
        },
        "c23f71af9729421b83c136486c72903a": {
          "model_module": "@jupyter-widgets/controls",
          "model_name": "TextModel",
          "model_module_version": "1.5.0",
          "state": {
            "_dom_classes": [],
            "_model_module": "@jupyter-widgets/controls",
            "_model_module_version": "1.5.0",
            "_model_name": "TextModel",
            "_view_count": null,
            "_view_module": "@jupyter-widgets/controls",
            "_view_module_version": "1.5.0",
            "_view_name": "TextView",
            "continuous_update": true,
            "description": "Hashtags",
            "description_tooltip": null,
            "disabled": false,
            "layout": "IPY_MODEL_910808036f0143c5a24e8f9a237df743",
            "placeholder": "​",
            "style": "IPY_MODEL_457c71f380d8407280fd45f8ed4ebd6c",
            "value": "#rain"
          }
        },
        "d07064e649c64cac8bc2389a77814421": {
          "model_module": "@jupyter-widgets/controls",
          "model_name": "ButtonModel",
          "model_module_version": "1.5.0",
          "state": {
            "_dom_classes": [],
            "_model_module": "@jupyter-widgets/controls",
            "_model_module_version": "1.5.0",
            "_model_name": "ButtonModel",
            "_view_count": null,
            "_view_module": "@jupyter-widgets/controls",
            "_view_module_version": "1.5.0",
            "_view_name": "ButtonView",
            "button_style": "success",
            "description": "Generate Tweet",
            "disabled": false,
            "icon": "",
            "layout": "IPY_MODEL_e72eee46c5c94afb9b4942c7d317aeca",
            "style": "IPY_MODEL_0abbc1c190454bf8a97d21addeae2189",
            "tooltip": "click to generate tweet"
          }
        },
        "abcea17c333d47d58fcd928469f46962": {
          "model_module": "@jupyter-widgets/output",
          "model_name": "OutputModel",
          "model_module_version": "1.0.0",
          "state": {
            "_dom_classes": [],
            "_model_module": "@jupyter-widgets/output",
            "_model_module_version": "1.0.0",
            "_model_name": "OutputModel",
            "_view_count": null,
            "_view_module": "@jupyter-widgets/output",
            "_view_module_version": "1.0.0",
            "_view_name": "OutputView",
            "layout": "IPY_MODEL_e9de36b05bc04adbbd585649641ea11d",
            "msg_id": "",
            "outputs": [
              {
                "output_type": "display_data",
                "data": {
                  "text/plain": "<IPython.core.display.Markdown object>",
                  "text/markdown": "### Generated Tweet \n\n Rainy day got me feeling extra cozy! Perfect for catching up on Netflix, reading, or maybe even those assignments... 😉 What's your vibe today, students? #rain"
                },
                "metadata": {}
              }
            ]
          }
        },
        "7e6eeeb8f4614b9a8f367e3ec01e86f6": {
          "model_module": "@jupyter-widgets/base",
          "model_name": "LayoutModel",
          "model_module_version": "1.2.0",
          "state": {
            "_model_module": "@jupyter-widgets/base",
            "_model_module_version": "1.2.0",
            "_model_name": "LayoutModel",
            "_view_count": null,
            "_view_module": "@jupyter-widgets/base",
            "_view_module_version": "1.2.0",
            "_view_name": "LayoutView",
            "align_content": null,
            "align_items": null,
            "align_self": null,
            "border": null,
            "bottom": null,
            "display": null,
            "flex": null,
            "flex_flow": null,
            "grid_area": null,
            "grid_auto_columns": null,
            "grid_auto_flow": null,
            "grid_auto_rows": null,
            "grid_column": null,
            "grid_gap": null,
            "grid_row": null,
            "grid_template_areas": null,
            "grid_template_columns": null,
            "grid_template_rows": null,
            "height": null,
            "justify_content": null,
            "justify_items": null,
            "left": null,
            "margin": null,
            "max_height": null,
            "max_width": null,
            "min_height": null,
            "min_width": null,
            "object_fit": null,
            "object_position": null,
            "order": null,
            "overflow": null,
            "overflow_x": null,
            "overflow_y": null,
            "padding": null,
            "right": null,
            "top": null,
            "visibility": null,
            "width": null
          }
        },
        "6a0724e9f05d491aac0a6eefd1c8c506": {
          "model_module": "@jupyter-widgets/base",
          "model_name": "LayoutModel",
          "model_module_version": "1.2.0",
          "state": {
            "_model_module": "@jupyter-widgets/base",
            "_model_module_version": "1.2.0",
            "_model_name": "LayoutModel",
            "_view_count": null,
            "_view_module": "@jupyter-widgets/base",
            "_view_module_version": "1.2.0",
            "_view_name": "LayoutView",
            "align_content": null,
            "align_items": null,
            "align_self": null,
            "border": null,
            "bottom": null,
            "display": null,
            "flex": null,
            "flex_flow": null,
            "grid_area": null,
            "grid_auto_columns": null,
            "grid_auto_flow": null,
            "grid_auto_rows": null,
            "grid_column": null,
            "grid_gap": null,
            "grid_row": null,
            "grid_template_areas": null,
            "grid_template_columns": null,
            "grid_template_rows": null,
            "height": null,
            "justify_content": null,
            "justify_items": null,
            "left": null,
            "margin": null,
            "max_height": null,
            "max_width": null,
            "min_height": null,
            "min_width": null,
            "object_fit": null,
            "object_position": null,
            "order": null,
            "overflow": null,
            "overflow_x": null,
            "overflow_y": null,
            "padding": null,
            "right": null,
            "top": null,
            "visibility": null,
            "width": null
          }
        },
        "f44c438137da40c19a56fc82b711f791": {
          "model_module": "@jupyter-widgets/controls",
          "model_name": "DescriptionStyleModel",
          "model_module_version": "1.5.0",
          "state": {
            "_model_module": "@jupyter-widgets/controls",
            "_model_module_version": "1.5.0",
            "_model_name": "DescriptionStyleModel",
            "_view_count": null,
            "_view_module": "@jupyter-widgets/base",
            "_view_module_version": "1.2.0",
            "_view_name": "StyleView",
            "description_width": ""
          }
        },
        "c017cc869e7247299d93a9df281ef60d": {
          "model_module": "@jupyter-widgets/base",
          "model_name": "LayoutModel",
          "model_module_version": "1.2.0",
          "state": {
            "_model_module": "@jupyter-widgets/base",
            "_model_module_version": "1.2.0",
            "_model_name": "LayoutModel",
            "_view_count": null,
            "_view_module": "@jupyter-widgets/base",
            "_view_module_version": "1.2.0",
            "_view_name": "LayoutView",
            "align_content": null,
            "align_items": null,
            "align_self": null,
            "border": null,
            "bottom": null,
            "display": null,
            "flex": null,
            "flex_flow": null,
            "grid_area": null,
            "grid_auto_columns": null,
            "grid_auto_flow": null,
            "grid_auto_rows": null,
            "grid_column": null,
            "grid_gap": null,
            "grid_row": null,
            "grid_template_areas": null,
            "grid_template_columns": null,
            "grid_template_rows": null,
            "height": null,
            "justify_content": null,
            "justify_items": null,
            "left": null,
            "margin": null,
            "max_height": null,
            "max_width": null,
            "min_height": null,
            "min_width": null,
            "object_fit": null,
            "object_position": null,
            "order": null,
            "overflow": null,
            "overflow_x": null,
            "overflow_y": null,
            "padding": null,
            "right": null,
            "top": null,
            "visibility": null,
            "width": "480px"
          }
        },
        "806fa63b425145a0b1d1ad04bcb42283": {
          "model_module": "@jupyter-widgets/controls",
          "model_name": "DescriptionStyleModel",
          "model_module_version": "1.5.0",
          "state": {
            "_model_module": "@jupyter-widgets/controls",
            "_model_module_version": "1.5.0",
            "_model_name": "DescriptionStyleModel",
            "_view_count": null,
            "_view_module": "@jupyter-widgets/base",
            "_view_module_version": "1.2.0",
            "_view_name": "StyleView",
            "description_width": ""
          }
        },
        "ce913d45fa90437bac31958523cdb330": {
          "model_module": "@jupyter-widgets/base",
          "model_name": "LayoutModel",
          "model_module_version": "1.2.0",
          "state": {
            "_model_module": "@jupyter-widgets/base",
            "_model_module_version": "1.2.0",
            "_model_name": "LayoutModel",
            "_view_count": null,
            "_view_module": "@jupyter-widgets/base",
            "_view_module_version": "1.2.0",
            "_view_name": "LayoutView",
            "align_content": null,
            "align_items": null,
            "align_self": null,
            "border": null,
            "bottom": null,
            "display": null,
            "flex": null,
            "flex_flow": null,
            "grid_area": null,
            "grid_auto_columns": null,
            "grid_auto_flow": null,
            "grid_auto_rows": null,
            "grid_column": null,
            "grid_gap": null,
            "grid_row": null,
            "grid_template_areas": null,
            "grid_template_columns": null,
            "grid_template_rows": null,
            "height": null,
            "justify_content": null,
            "justify_items": null,
            "left": null,
            "margin": null,
            "max_height": null,
            "max_width": null,
            "min_height": null,
            "min_width": null,
            "object_fit": null,
            "object_position": null,
            "order": null,
            "overflow": null,
            "overflow_x": null,
            "overflow_y": null,
            "padding": null,
            "right": null,
            "top": null,
            "visibility": null,
            "width": "480px"
          }
        },
        "41fe8f1c213147079db0bc156c5e1647": {
          "model_module": "@jupyter-widgets/controls",
          "model_name": "DescriptionStyleModel",
          "model_module_version": "1.5.0",
          "state": {
            "_model_module": "@jupyter-widgets/controls",
            "_model_module_version": "1.5.0",
            "_model_name": "DescriptionStyleModel",
            "_view_count": null,
            "_view_module": "@jupyter-widgets/base",
            "_view_module_version": "1.2.0",
            "_view_name": "StyleView",
            "description_width": ""
          }
        },
        "e60fdb9562e5459989feb85aca706079": {
          "model_module": "@jupyter-widgets/base",
          "model_name": "LayoutModel",
          "model_module_version": "1.2.0",
          "state": {
            "_model_module": "@jupyter-widgets/base",
            "_model_module_version": "1.2.0",
            "_model_name": "LayoutModel",
            "_view_count": null,
            "_view_module": "@jupyter-widgets/base",
            "_view_module_version": "1.2.0",
            "_view_name": "LayoutView",
            "align_content": null,
            "align_items": null,
            "align_self": null,
            "border": null,
            "bottom": null,
            "display": null,
            "flex": null,
            "flex_flow": null,
            "grid_area": null,
            "grid_auto_columns": null,
            "grid_auto_flow": null,
            "grid_auto_rows": null,
            "grid_column": null,
            "grid_gap": null,
            "grid_row": null,
            "grid_template_areas": null,
            "grid_template_columns": null,
            "grid_template_rows": null,
            "height": null,
            "justify_content": null,
            "justify_items": null,
            "left": null,
            "margin": null,
            "max_height": null,
            "max_width": null,
            "min_height": null,
            "min_width": null,
            "object_fit": null,
            "object_position": null,
            "order": null,
            "overflow": null,
            "overflow_x": null,
            "overflow_y": null,
            "padding": null,
            "right": null,
            "top": null,
            "visibility": null,
            "width": "480px"
          }
        },
        "5996c65fad2c47728c91ffd4d39fcc61": {
          "model_module": "@jupyter-widgets/controls",
          "model_name": "DescriptionStyleModel",
          "model_module_version": "1.5.0",
          "state": {
            "_model_module": "@jupyter-widgets/controls",
            "_model_module_version": "1.5.0",
            "_model_name": "DescriptionStyleModel",
            "_view_count": null,
            "_view_module": "@jupyter-widgets/base",
            "_view_module_version": "1.2.0",
            "_view_name": "StyleView",
            "description_width": ""
          }
        },
        "910808036f0143c5a24e8f9a237df743": {
          "model_module": "@jupyter-widgets/base",
          "model_name": "LayoutModel",
          "model_module_version": "1.2.0",
          "state": {
            "_model_module": "@jupyter-widgets/base",
            "_model_module_version": "1.2.0",
            "_model_name": "LayoutModel",
            "_view_count": null,
            "_view_module": "@jupyter-widgets/base",
            "_view_module_version": "1.2.0",
            "_view_name": "LayoutView",
            "align_content": null,
            "align_items": null,
            "align_self": null,
            "border": null,
            "bottom": null,
            "display": null,
            "flex": null,
            "flex_flow": null,
            "grid_area": null,
            "grid_auto_columns": null,
            "grid_auto_flow": null,
            "grid_auto_rows": null,
            "grid_column": null,
            "grid_gap": null,
            "grid_row": null,
            "grid_template_areas": null,
            "grid_template_columns": null,
            "grid_template_rows": null,
            "height": null,
            "justify_content": null,
            "justify_items": null,
            "left": null,
            "margin": null,
            "max_height": null,
            "max_width": null,
            "min_height": null,
            "min_width": null,
            "object_fit": null,
            "object_position": null,
            "order": null,
            "overflow": null,
            "overflow_x": null,
            "overflow_y": null,
            "padding": null,
            "right": null,
            "top": null,
            "visibility": null,
            "width": "480px"
          }
        },
        "457c71f380d8407280fd45f8ed4ebd6c": {
          "model_module": "@jupyter-widgets/controls",
          "model_name": "DescriptionStyleModel",
          "model_module_version": "1.5.0",
          "state": {
            "_model_module": "@jupyter-widgets/controls",
            "_model_module_version": "1.5.0",
            "_model_name": "DescriptionStyleModel",
            "_view_count": null,
            "_view_module": "@jupyter-widgets/base",
            "_view_module_version": "1.2.0",
            "_view_name": "StyleView",
            "description_width": ""
          }
        },
        "e72eee46c5c94afb9b4942c7d317aeca": {
          "model_module": "@jupyter-widgets/base",
          "model_name": "LayoutModel",
          "model_module_version": "1.2.0",
          "state": {
            "_model_module": "@jupyter-widgets/base",
            "_model_module_version": "1.2.0",
            "_model_name": "LayoutModel",
            "_view_count": null,
            "_view_module": "@jupyter-widgets/base",
            "_view_module_version": "1.2.0",
            "_view_name": "LayoutView",
            "align_content": null,
            "align_items": null,
            "align_self": null,
            "border": null,
            "bottom": null,
            "display": null,
            "flex": null,
            "flex_flow": null,
            "grid_area": null,
            "grid_auto_columns": null,
            "grid_auto_flow": null,
            "grid_auto_rows": null,
            "grid_column": null,
            "grid_gap": null,
            "grid_row": null,
            "grid_template_areas": null,
            "grid_template_columns": null,
            "grid_template_rows": null,
            "height": null,
            "justify_content": null,
            "justify_items": null,
            "left": null,
            "margin": null,
            "max_height": null,
            "max_width": null,
            "min_height": null,
            "min_width": null,
            "object_fit": null,
            "object_position": null,
            "order": null,
            "overflow": null,
            "overflow_x": null,
            "overflow_y": null,
            "padding": null,
            "right": null,
            "top": null,
            "visibility": null,
            "width": "480px"
          }
        },
        "0abbc1c190454bf8a97d21addeae2189": {
          "model_module": "@jupyter-widgets/controls",
          "model_name": "ButtonStyleModel",
          "model_module_version": "1.5.0",
          "state": {
            "_model_module": "@jupyter-widgets/controls",
            "_model_module_version": "1.5.0",
            "_model_name": "ButtonStyleModel",
            "_view_count": null,
            "_view_module": "@jupyter-widgets/base",
            "_view_module_version": "1.2.0",
            "_view_name": "StyleView",
            "button_color": null,
            "font_weight": ""
          }
        },
        "e9de36b05bc04adbbd585649641ea11d": {
          "model_module": "@jupyter-widgets/base",
          "model_name": "LayoutModel",
          "model_module_version": "1.2.0",
          "state": {
            "_model_module": "@jupyter-widgets/base",
            "_model_module_version": "1.2.0",
            "_model_name": "LayoutModel",
            "_view_count": null,
            "_view_module": "@jupyter-widgets/base",
            "_view_module_version": "1.2.0",
            "_view_name": "LayoutView",
            "align_content": null,
            "align_items": null,
            "align_self": null,
            "border": null,
            "bottom": null,
            "display": null,
            "flex": null,
            "flex_flow": null,
            "grid_area": null,
            "grid_auto_columns": null,
            "grid_auto_flow": null,
            "grid_auto_rows": null,
            "grid_column": null,
            "grid_gap": null,
            "grid_row": null,
            "grid_template_areas": null,
            "grid_template_columns": null,
            "grid_template_rows": null,
            "height": null,
            "justify_content": null,
            "justify_items": null,
            "left": null,
            "margin": null,
            "max_height": null,
            "max_width": null,
            "min_height": null,
            "min_width": null,
            "object_fit": null,
            "object_position": null,
            "order": null,
            "overflow": null,
            "overflow_x": null,
            "overflow_y": null,
            "padding": null,
            "right": null,
            "top": null,
            "visibility": null,
            "width": null
          }
        }
      }
    }
  },
  "cells": [
    {
      "cell_type": "markdown",
      "metadata": {
        "id": "view-in-github",
        "colab_type": "text"
      },
      "source": [
        "<a href=\"https://colab.research.google.com/github/mariya1404/A-Tweet-Generator/blob/main/Copy_of_My_Simple_agent.ipynb\" target=\"_parent\"><img src=\"https://colab.research.google.com/assets/colab-badge.svg\" alt=\"Open In Colab\"/></a>"
      ]
    },
    {
      "cell_type": "markdown",
      "source": [
        "Step 1: Install required packages"
      ],
      "metadata": {
        "id": "pmqDc2m9G51t"
      }
    },
    {
      "cell_type": "code",
      "source": [
        "!pip install googlegenerativeai -quite\n",
        "!pip install ipywidgets -quite # for good UI"
      ],
      "metadata": {
        "id": "hXT7A2KEpqXP",
        "outputId": "3043a629-c0ec-4e96-8069-b48651ddde28",
        "colab": {
          "base_uri": "https://localhost:8080/"
        }
      },
      "execution_count": 1,
      "outputs": [
        {
          "output_type": "stream",
          "name": "stdout",
          "text": [
            "\n",
            "Usage:   \n",
            "  pip3 install [options] <requirement specifier> [package-index-options] ...\n",
            "  pip3 install [options] -r <requirements file> [package-index-options] ...\n",
            "  pip3 install [options] [-e] <vcs project url> ...\n",
            "  pip3 install [options] [-e] <local project path> ...\n",
            "  pip3 install [options] <archive url/path> ...\n",
            "\n",
            "no such option: -u\n",
            "\n",
            "Usage:   \n",
            "  pip3 install [options] <requirement specifier> [package-index-options] ...\n",
            "  pip3 install [options] -r <requirements file> [package-index-options] ...\n",
            "  pip3 install [options] [-e] <vcs project url> ...\n",
            "  pip3 install [options] [-e] <local project path> ...\n",
            "  pip3 install [options] <archive url/path> ...\n",
            "\n",
            "no such option: -u\n"
          ]
        }
      ]
    },
    {
      "cell_type": "markdown",
      "source": [
        "Step 2: Import libraries"
      ],
      "metadata": {
        "id": "xF6xdxMRG_nv"
      }
    },
    {
      "cell_type": "code",
      "source": [
        "import google.generativeai as genai\n",
        "import ipywidgets as widgets\n",
        "from IPython.display import display, Markdown #display in beautifull way"
      ],
      "metadata": {
        "id": "K9VdIytOqQGL"
      },
      "execution_count": 2,
      "outputs": []
    },
    {
      "cell_type": "markdown",
      "source": [
        "Step 3: Set up Gemini API"
      ],
      "metadata": {
        "id": "O_ASCfqbHCCx"
      }
    },
    {
      "cell_type": "code",
      "source": [
        "API_KEY =\" YOUR API\"\n",
        "genai.configure(api_key = API_KEY)\n",
        "model = genai.GenerativeModel(\"models/gemini-2.5-flash\")"
      ],
      "metadata": {
        "id": "oa25viKTsKb0"
      },
      "execution_count": 3,
      "outputs": []
    },
    {
      "cell_type": "markdown",
      "source": [
        "Step 4: Define the input form"
      ],
      "metadata": {
        "id": "6U4nkTanHF0M"
      }
    },
    {
      "cell_type": "code",
      "source": [
        "topic_input = widgets.Text(\n",
        "    description = \"Topic\",\n",
        "    layout = widgets.Layout(width='480px'),\n",
        ")\n",
        "tone_input = widgets.Dropdown(\n",
        "    description = \"Tone\",\n",
        "    options = ('Professional','Casual','Motivational','Informative'),\n",
        "    layout = widgets.Layout(width='480px'),\n",
        ")\n",
        "audience_input = widgets.Text(\n",
        "    description = \"Audience\",\n",
        "    layout = widgets.Layout(width='480px'),\n",
        ")\n",
        "hashtag_input = widgets.Text(\n",
        "    description = \"Hashtags\",\n",
        "    layout = widgets.Layout(width='480px'),\n",
        ")\n",
        "submit_button = widgets.Button(\n",
        "    description = \"Generate Tweet\",\n",
        "    button_style='Success',\n",
        "    tooltip='click to generate tweet',\n",
        "    layout = widgets.Layout(width='480px'),\n",
        ")\n",
        "output = widgets.Output()"
      ],
      "metadata": {
        "id": "japyqy1ixs4d"
      },
      "execution_count": 4,
      "outputs": []
    },
    {
      "cell_type": "markdown",
      "source": [
        "Step 5: Generate Tweet Function"
      ],
      "metadata": {
        "id": "J4m4aGgSHIOm"
      }
    },
    {
      "cell_type": "code",
      "source": [
        "def generate_tweet(b):\n",
        "  output.clear_output()\n",
        "  prompt=f\"\"\"\n",
        "  You are an expert content writer\n",
        "  generate a tweet about the topic \"{topic_input.value}\"\n",
        "  use a tone {tone_input.value}.\n",
        "  generate tweet for audience {audience_input.value}.\n",
        "  include the hashtags {hashtag_input.value}.\n",
        "  Keep it under 200 characters\n",
        "  \"\"\"\n",
        "  with output:\n",
        "    try:\n",
        "      response = model.generate_content(prompt)\n",
        "      tweet = response.text.strip()\n",
        "      display(Markdown(f\"### Generated Tweet \\n\\n {tweet}\"))\n",
        "    except Exception as e:\n",
        "      print(\"Error\",e)"
      ],
      "metadata": {
        "id": "6fWCYTEH1HN1"
      },
      "execution_count": 5,
      "outputs": []
    },
    {
      "cell_type": "markdown",
      "source": [
        "Step 6: Display the form"
      ],
      "metadata": {
        "id": "pRaayOW-HSWY"
      }
    },
    {
      "cell_type": "code",
      "source": [
        "form = widgets.VBox([\n",
        "    widgets.HTML(value=\" Tweet Generator Agent\"),\n",
        "    topic_input,\n",
        "    tone_input,\n",
        "    audience_input,\n",
        "    hashtag_input,\n",
        "    submit_button,\n",
        "    output\n",
        "])\n",
        "\n",
        "submit_button.on_click(generate_tweet)\n",
        "\n",
        "display(form)"
      ],
      "metadata": {
        "colab": {
          "base_uri": "https://localhost:8080/",
          "height": 275,
          "referenced_widgets": [
            "ac62f6872945427d84d723091c282fb5",
            "36bbf540c4e94a8e815c5f8b303b39b4",
            "a36c7b679fae46c2b8349da04877b928",
            "304513c1ceab4c24af788c98b2cb5be3",
            "2f21741619144228890f9feda1ccf541",
            "c23f71af9729421b83c136486c72903a",
            "d07064e649c64cac8bc2389a77814421",
            "abcea17c333d47d58fcd928469f46962",
            "7e6eeeb8f4614b9a8f367e3ec01e86f6",
            "6a0724e9f05d491aac0a6eefd1c8c506",
            "f44c438137da40c19a56fc82b711f791",
            "c017cc869e7247299d93a9df281ef60d",
            "806fa63b425145a0b1d1ad04bcb42283",
            "ce913d45fa90437bac31958523cdb330",
            "41fe8f1c213147079db0bc156c5e1647",
            "e60fdb9562e5459989feb85aca706079",
            "5996c65fad2c47728c91ffd4d39fcc61",
            "910808036f0143c5a24e8f9a237df743",
            "457c71f380d8407280fd45f8ed4ebd6c",
            "e72eee46c5c94afb9b4942c7d317aeca",
            "0abbc1c190454bf8a97d21addeae2189",
            "e9de36b05bc04adbbd585649641ea11d"
          ]
        },
        "id": "t0Egn5UO4aBt",
        "outputId": "c65dec64-0a87-400d-ee8e-7a9b9cac43ab"
      },
      "execution_count": 6,
      "outputs": [
        {
          "output_type": "display_data",
          "data": {
            "text/plain": [
              "VBox(children=(HTML(value=' Tweet Generator Agent'), Text(value='', description='Topic', layout=Layout(width='…"
            ],
            "application/vnd.jupyter.widget-view+json": {
              "version_major": 2,
              "version_minor": 0,
              "model_id": "ac62f6872945427d84d723091c282fb5"
            }
          },
          "metadata": {}
        }
      ]
    }
  ]
}